{
  "nbformat": 4,
  "nbformat_minor": 0,
  "metadata": {
    "colab": {
      "provenance": []
    },
    "kernelspec": {
      "name": "python3",
      "display_name": "Python 3"
    },
    "language_info": {
      "name": "python"
    }
  },
  "cells": [
    {
      "cell_type": "code",
      "source": [
        "print(\"hello Python\")"
      ],
      "metadata": {
        "colab": {
          "base_uri": "https://localhost:8080/"
        },
        "id": "piOjWN_J_gRL",
        "outputId": "22e14ce5-755c-4f73-97ad-e983971f3f0e"
      },
      "execution_count": 2,
      "outputs": [
        {
          "output_type": "stream",
          "name": "stdout",
          "text": [
            "hello Python\n"
          ]
        }
      ]
    },
    {
      "cell_type": "markdown",
      "source": [
        "두 수를 입력 받아서 합을 출력하는 프로그램"
      ],
      "metadata": {
        "id": "xTd0w8f5_1VE"
      }
    },
    {
      "cell_type": "code",
      "source": [
        "# 두 개의 값 입력 받기\n",
        "A, B = map(int, input(\"두 정수를 입력하세요: \").split())\n",
        "\n",
        "# 두 정수의 합 계산\n",
        "result = A + B\n",
        "\n",
        "# 합 출력\n",
        "print(\"두 정수의 합은:\", result)"
      ],
      "metadata": {
        "colab": {
          "base_uri": "https://localhost:8080/"
        },
        "id": "budhUV0__rcS",
        "outputId": "dd851006-ad61-4d91-e130-c731ad8f62da"
      },
      "execution_count": 4,
      "outputs": [
        {
          "output_type": "stream",
          "name": "stdout",
          "text": [
            "두 정수를 입력하세요: 1 2\n",
            "두 정수의 합은: 3\n"
          ]
        }
      ]
    },
    {
      "cell_type": "code",
      "source": [],
      "metadata": {
        "id": "Mgfcfs-gAYsm"
      },
      "execution_count": null,
      "outputs": []
    }
  ]
}