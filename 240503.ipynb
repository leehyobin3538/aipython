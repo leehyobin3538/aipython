{
  "nbformat": 4,
  "nbformat_minor": 0,
  "metadata": {
    "colab": {
      "provenance": [],
      "authorship_tag": "ABX9TyO98opFkG2I5bCf9SK8MtVn",
      "include_colab_link": true
    },
    "kernelspec": {
      "name": "python3",
      "display_name": "Python 3"
    },
    "language_info": {
      "name": "python"
    }
  },
  "cells": [
    {
      "cell_type": "markdown",
      "metadata": {
        "id": "view-in-github",
        "colab_type": "text"
      },
      "source": [
        "<a href=\"https://colab.research.google.com/github/leehyobin3538/aipython/blob/main/240503.ipynb\" target=\"_parent\"><img src=\"https://colab.research.google.com/assets/colab-badge.svg\" alt=\"Open In Colab\"/></a>"
      ]
    },
    {
      "cell_type": "code",
      "execution_count": null,
      "metadata": {
        "colab": {
          "base_uri": "https://localhost:8080/"
        },
        "id": "rJdeevOv9foq",
        "outputId": "266c60f6-5b22-4bc1-f050-4564ec0bf248"
      },
      "outputs": [
        {
          "output_type": "stream",
          "name": "stdout",
          "text": [
            "60 60\n",
            "PASS\n"
          ]
        }
      ],
      "source": [
        "a=list(map(int,input().split()))\n",
        "\n",
        "if sum(a)>100:\n",
        "  if a[0]>40 and a[1]>40:\n",
        "    print('PASS')\n",
        "  elif a[0]<40:\n",
        "    print('ENG FAIL')\n",
        "  else:\n",
        "    print('MATH FAIL')\n",
        "else:\n",
        "  print('FAIL')\n"
      ]
    },
    {
      "cell_type": "code",
      "source": [
        "num=input()\n",
        "numlist=list(num)\n",
        "intnum=map(int,numlist)\n",
        "print(sum(intnum))\n"
      ],
      "metadata": {
        "colab": {
          "base_uri": "https://localhost:8080/"
        },
        "id": "bv5xhisbC7ej",
        "outputId": "c4bf4004-02b7-40be-de54-bd4209bf2702"
      },
      "execution_count": null,
      "outputs": [
        {
          "output_type": "stream",
          "name": "stdout",
          "text": [
            "1234\n",
            "10\n"
          ]
        }
      ]
    },
    {
      "cell_type": "code",
      "source": [
        "n=int(input())\n",
        "a=[input() for _ in range(n)]\n",
        "b=[i for i in a if i.split('.')[-1]=='jpg' or i.split('.')[-1]=='png']\n",
        "print(b)"
      ],
      "metadata": {
        "colab": {
          "base_uri": "https://localhost:8080/"
        },
        "id": "5iux7n4dDvvh",
        "outputId": "5936f511-9550-4e19-a5d8-e851d58b6cb5"
      },
      "execution_count": null,
      "outputs": [
        {
          "output_type": "stream",
          "name": "stdout",
          "text": [
            "2\n",
            "dtdsa.png\n",
            "adaf.dafd\n",
            "['dtdsa.png']\n"
          ]
        }
      ]
    },
    {
      "cell_type": "code",
      "source": [
        "#1부터 10까지(미포함)의 2걸음 크기의 정수값 배열을 생성해보자\n",
        "\n",
        "\n",
        "import numpy as np\n",
        "arr=np.arange(1,10,2)\n",
        "arr"
      ],
      "metadata": {
        "id": "HmvjjFD-FJmR",
        "colab": {
          "base_uri": "https://localhost:8080/"
        },
        "outputId": "6b597c60-4f6c-4348-8a8e-3b147ab6b567"
      },
      "execution_count": null,
      "outputs": [
        {
          "output_type": "execute_result",
          "data": {
            "text/plain": [
              "array([1, 3, 5, 7, 9])"
            ]
          },
          "metadata": {},
          "execution_count": 13
        }
      ]
    },
    {
      "cell_type": "code",
      "source": [
        "#모양이 (3,4)인 모든 값이 1인 배열을 생성해보자\n",
        "\n",
        "\n",
        "ones_1d=np.ones((3,4))\n",
        "print(ones_1d)"
      ],
      "metadata": {
        "colab": {
          "base_uri": "https://localhost:8080/"
        },
        "id": "Jkuz3OELUNWl",
        "outputId": "435a3011-e696-4368-ab55-3f1d91ac47fa"
      },
      "execution_count": null,
      "outputs": [
        {
          "output_type": "stream",
          "name": "stdout",
          "text": [
            "[[1. 1. 1. 1.]\n",
            " [1. 1. 1. 1.]\n",
            " [1. 1. 1. 1.]]\n"
          ]
        }
      ]
    },
    {
      "cell_type": "code",
      "source": [
        "#0과 1사이를 10등분하고자 할 때 등분값 배열을 생성해보자\n",
        "\n",
        "\n",
        "arr_1d=np.linspace(0,1,10)\n",
        "print(arr_1d)"
      ],
      "metadata": {
        "colab": {
          "base_uri": "https://localhost:8080/"
        },
        "id": "eazOdf8UUZo0",
        "outputId": "8f4c2506-d8ae-4d32-c6d9-39e8448b1b71"
      },
      "execution_count": null,
      "outputs": [
        {
          "output_type": "stream",
          "name": "stdout",
          "text": [
            "[0.         0.11111111 0.22222222 0.33333333 0.44444444 0.55555556\n",
            " 0.66666667 0.77777778 0.88888889 1.        ]\n"
          ]
        }
      ]
    },
    {
      "cell_type": "code",
      "source": [
        "A = np.array(\n",
        "[[ 1, 2, 3, 4, 5],\n",
        " [ 6, 7, 8, 9, 10],\n",
        " [11, 12, 13, 14, 15],\n",
        " [16, 17, 18, 19, 20],\n",
        " [21, 22, 23, 24, 25]])\n",
        "\n",
        "print(A.shape)\n",
        "print(A[3,3])\n",
        "print(A[:2,:2])\n",
        "print(A[-1:,-2:])\n",
        "\n"
      ],
      "metadata": {
        "colab": {
          "base_uri": "https://localhost:8080/"
        },
        "id": "2Wb7LZ11XdmM",
        "outputId": "8230610d-2eb3-4556-cb3d-26e07918a97a"
      },
      "execution_count": null,
      "outputs": [
        {
          "output_type": "stream",
          "name": "stdout",
          "text": [
            "(5, 5)\n",
            "19\n",
            "[[1 2]\n",
            " [6 7]]\n",
            "[[24 25]]\n"
          ]
        }
      ]
    },
    {
      "cell_type": "code",
      "source": [
        "A = np.array([[[1, 2, 3, 4],\n",
        " [5, 6, 7, 8],\n",
        " [9,10,11,12]],\n",
        "\n",
        "[[13,14,15,16],\n",
        " [17,18,19,20],\n",
        " [21,22,23,24]],\n",
        "\n",
        " [[25,26,27,28],\n",
        " [29,30,31,32],\n",
        " [33,34,35,36]]])\n",
        "\n",
        "print(A.shape)\n",
        "print(A.size)\n",
        "reA=A.reshape(3,4,3)\n",
        "print(reA)\n"
      ],
      "metadata": {
        "colab": {
          "base_uri": "https://localhost:8080/"
        },
        "id": "PTySNmpxbYY6",
        "outputId": "f83038ec-8ce8-423a-dc5f-7f9c928273b6"
      },
      "execution_count": null,
      "outputs": [
        {
          "output_type": "stream",
          "name": "stdout",
          "text": [
            "(3, 3, 4)\n",
            "36\n",
            "[[[ 1  2  3]\n",
            "  [ 4  5  6]\n",
            "  [ 7  8  9]\n",
            "  [10 11 12]]\n",
            "\n",
            " [[13 14 15]\n",
            "  [16 17 18]\n",
            "  [19 20 21]\n",
            "  [22 23 24]]\n",
            "\n",
            " [[25 26 27]\n",
            "  [28 29 30]\n",
            "  [31 32 33]\n",
            "  [34 35 36]]]\n"
          ]
        }
      ]
    }
  ]
}